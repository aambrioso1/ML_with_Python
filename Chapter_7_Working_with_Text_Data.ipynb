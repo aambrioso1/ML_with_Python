{
 "cells": [
  {
   "cell_type": "code",
   "execution_count": 3,
   "id": "9a870fef",
   "metadata": {},
   "outputs": [
    {
     "name": "stdout",
     "output_type": "stream",
     "text": [
      "File 'data/aclImdb_v1.tar.gz' already there; not retrieving.\r\n",
      "\r\n"
     ]
    }
   ],
   "source": [
    "! wget -nc http://ai.stanford.edu/~amaas/data/sentiment/aclImdb_v1.tar.gz -P data\n",
    "! tar -xzf data/aclImdb_v1.tar.gz -C data"
   ]
  },
  {
   "cell_type": "code",
   "execution_count": 4,
   "id": "a155cbff",
   "metadata": {},
   "outputs": [
    {
     "name": "stdout",
     "output_type": "stream",
     "text": [
      "\u001b[01;34mdata/aclImdb\u001b[0m\r\n",
      "├── \u001b[01;34mtest\u001b[0m\r\n",
      "│   ├── \u001b[01;34mneg\u001b[0m\r\n",
      "│   └── \u001b[01;34mpos\u001b[0m\r\n",
      "└── \u001b[01;34mtrain\u001b[0m\r\n",
      "    ├── \u001b[01;34mneg\u001b[0m\r\n",
      "    ├── \u001b[01;34mpos\u001b[0m\r\n",
      "    └── \u001b[01;34munsup\u001b[0m\r\n",
      "\r\n",
      "7 directories\r\n"
     ]
    }
   ],
   "source": [
    "!tree -dL 2 data/aclImdb"
   ]
  },
  {
   "cell_type": "code",
   "execution_count": null,
   "id": "d0ed6a34",
   "metadata": {},
   "outputs": [],
   "source": []
  }
 ],
 "metadata": {
  "kernelspec": {
   "display_name": "Python 3 (ipykernel)",
   "language": "python",
   "name": "python3"
  },
  "language_info": {
   "codemirror_mode": {
    "name": "ipython",
    "version": 3
   },
   "file_extension": ".py",
   "mimetype": "text/x-python",
   "name": "python",
   "nbconvert_exporter": "python",
   "pygments_lexer": "ipython3",
   "version": "3.9.12"
  }
 },
 "nbformat": 4,
 "nbformat_minor": 5
}
